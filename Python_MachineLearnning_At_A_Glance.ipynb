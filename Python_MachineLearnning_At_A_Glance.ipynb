{
  "nbformat": 4,
  "nbformat_minor": 0,
  "metadata": {
    "colab": {
      "name": "Python_MachineLearnning_At_A_Glance.ipynb",
      "provenance": [],
      "authorship_tag": "ABX9TyPEn+own9KG1jDmzw2ZSFn4",
      "include_colab_link": true
    },
    "kernelspec": {
      "name": "python3",
      "display_name": "Python 3"
    },
    "language_info": {
      "name": "python"
    }
  },
  "cells": [
    {
      "cell_type": "markdown",
      "metadata": {
        "id": "view-in-github",
        "colab_type": "text"
      },
      "source": [
        "<a href=\"https://colab.research.google.com/github/FahadMostafa91/FahadMostafa91/blob/main/Python_MachineLearnning_At_A_Glance.ipynb\" target=\"_parent\"><img src=\"https://colab.research.google.com/assets/colab-badge.svg\" alt=\"Open In Colab\"/></a>"
      ]
    },
    {
      "cell_type": "markdown",
      "source": [
        "Basic Examples"
      ],
      "metadata": {
        "id": "w2nsjFzKif9O"
      }
    },
    {
      "cell_type": "code",
      "metadata": {
        "id": "mow7OGHmWHbU"
      },
      "source": [
        "from sklearn import neighbors, datasets, preprocessing\n",
        "from sklearn.model_selection import train_test_split\n",
        "\n",
        "iris = datasets.load_iris()\n",
        "X, y = iris.data[:,:2], iris.target\n",
        "X_train, X_test, y_train, y_test =train_test_split(X,y,random_state=33)\n",
        "scaler =preprocessing.StandardScaler().fit(X_train)\n",
        "X_train=scaler.transform(X_train)\n",
        "X_test=scaler.transform(X_test)\n",
        "knn = neighbors.KNeighborsClassifier(n_neighbors=5)\n",
        "knn.fit(X_train, y_train)\n",
        "y_pred = knn.predict(X_test)\n"
      ],
      "execution_count": 35,
      "outputs": []
    },
    {
      "cell_type": "code",
      "source": [
        "y_pred"
      ],
      "metadata": {
        "colab": {
          "base_uri": "https://localhost:8080/"
        },
        "id": "CFokL0kqcv8Q",
        "outputId": "d8941419-b8c5-493f-c2be-745aca76c530"
      },
      "execution_count": null,
      "outputs": [
        {
          "output_type": "execute_result",
          "data": {
            "text/plain": [
              "array([1, 1, 0, 2, 1, 2, 0, 0, 1, 2, 2, 0, 2, 1, 2, 2, 1, 0, 2, 2, 0, 0,\n",
              "       1, 0, 1, 2, 1, 1, 1, 1, 1, 1, 1, 2, 1, 1, 1, 1])"
            ]
          },
          "metadata": {},
          "execution_count": 14
        }
      ]
    },
    {
      "cell_type": "markdown",
      "source": [
        "Loading the data"
      ],
      "metadata": {
        "id": "QJLX4zU7izVE"
      }
    },
    {
      "cell_type": "code",
      "source": [
        "import numpy as np"
      ],
      "metadata": {
        "id": "O5xbRrVOjG2d"
      },
      "execution_count": 12,
      "outputs": []
    },
    {
      "cell_type": "code",
      "source": [
        "X = np.random.random((10,5))\n",
        "y = np.array(['M','M','F','F', 'M','F','M','M','F','F','F'])\n",
        "X[X <0.7] = 0"
      ],
      "metadata": {
        "id": "DYfkAcWxjLGS"
      },
      "execution_count": 13,
      "outputs": []
    },
    {
      "cell_type": "markdown",
      "source": [
        "Training and Testing data set split "
      ],
      "metadata": {
        "id": "DDqyo4mAjyx_"
      }
    },
    {
      "cell_type": "code",
      "source": [
        "from sklearn.model_selection import train_test_split\n",
        "X_train, X_test, y_train, y_test =train_test_split(X,\n",
        "                                                   y,\n",
        "                                                   random_state=0)"
      ],
      "metadata": {
        "id": "TjSX1XWxj4fG"
      },
      "execution_count": 37,
      "outputs": []
    },
    {
      "cell_type": "markdown",
      "source": [
        "Preprocessing the data "
      ],
      "metadata": {
        "id": "Zk39o6zlld_M"
      }
    },
    {
      "cell_type": "code",
      "source": [
        "from sklearn.preprocessing import StandardScaler\n",
        "scaler = StandardScaler ().fit(X_train)\n",
        "standardized_X = scaler.transform(X_train)\n",
        "standardized_X_test = scaler.transform(X_test)"
      ],
      "metadata": {
        "id": "fPq5kneolLWR"
      },
      "execution_count": 17,
      "outputs": []
    },
    {
      "cell_type": "markdown",
      "source": [
        "Binarization"
      ],
      "metadata": {
        "id": "BNb0KKhSmXjr"
      }
    },
    {
      "cell_type": "code",
      "source": [
        "from sklearn.preprocessing import Binarizer\n",
        "binarizer = Binarizer (threshold=0.0).fit(X)\n",
        "binary_X = binarizer.transform(X)"
      ],
      "metadata": {
        "id": "m6XsLj9pmdsn"
      },
      "execution_count": 18,
      "outputs": []
    },
    {
      "cell_type": "markdown",
      "source": [
        "Generating Polynomial Feature "
      ],
      "metadata": {
        "id": "xfZJMGD9oFnB"
      }
    },
    {
      "cell_type": "code",
      "source": [
        "from sklearn.preprocessing import PolynomialFeatures\n",
        "poly = PolynomialFeatures (5)\n",
        "poly.fit_transform(X)"
      ],
      "metadata": {
        "colab": {
          "base_uri": "https://localhost:8080/"
        },
        "id": "gGUCKof0oL5X",
        "outputId": "83f4b326-f2bb-4f5b-d73d-d846f04582cb"
      },
      "execution_count": 19,
      "outputs": [
        {
          "output_type": "execute_result",
          "data": {
            "text/plain": [
              "array([[1.        , 0.78186016, 0.        , ..., 0.        , 0.        ,\n",
              "        0.59306663],\n",
              "       [1.        , 0.        , 0.        , ..., 0.        , 0.        ,\n",
              "        0.        ],\n",
              "       [1.        , 0.        , 0.928198  , ..., 0.        , 0.        ,\n",
              "        0.        ],\n",
              "       ...,\n",
              "       [1.        , 0.96974183, 0.88321032, ..., 0.71122652, 0.69886274,\n",
              "        0.68671388],\n",
              "       [1.        , 0.        , 0.94614641, ..., 0.        , 0.        ,\n",
              "        0.17201567],\n",
              "       [1.        , 0.8507061 , 0.        , ..., 0.        , 0.        ,\n",
              "        0.        ]])"
            ]
          },
          "metadata": {},
          "execution_count": 19
        }
      ]
    },
    {
      "cell_type": "markdown",
      "source": [
        "Supervised Learning Estimators "
      ],
      "metadata": {
        "id": "aQRBKzhaolgQ"
      }
    },
    {
      "cell_type": "code",
      "source": [
        "#Linear Regression\n",
        "from sklearn.linear_model import LinearRegression\n",
        "lr = LinearRegression(normalize=True)"
      ],
      "metadata": {
        "id": "bFxnjju-oifL"
      },
      "execution_count": 20,
      "outputs": []
    },
    {
      "cell_type": "code",
      "source": [
        "# Support Vector Machine\n",
        "from sklearn.svm import SVC\n",
        "svc = SVC(kernel='linear')"
      ],
      "metadata": {
        "id": "8JjCE6nUpZlf"
      },
      "execution_count": 21,
      "outputs": []
    },
    {
      "cell_type": "code",
      "source": [
        "# Naive Bayes Classifier\n",
        "from sklearn.naive_bayes import GaussianNB\n",
        "gnb = GaussianNB ()"
      ],
      "metadata": {
        "id": "mtRLzAsnq9-G"
      },
      "execution_count": 22,
      "outputs": []
    },
    {
      "cell_type": "code",
      "source": [
        "# KNN\n",
        "from sklearn import neighbors\n",
        "knn = neighbors.KNeighborsClassifier(n_neighbors=5)"
      ],
      "metadata": {
        "id": "j9CIBM8mrU7e"
      },
      "execution_count": 23,
      "outputs": []
    },
    {
      "cell_type": "markdown",
      "source": [
        "Unsupervised Machine Learning "
      ],
      "metadata": {
        "id": "f5xQVNFFso3A"
      }
    },
    {
      "cell_type": "code",
      "source": [
        "# Dimension reduction\n",
        "# PCA\n",
        "from sklearn.decomposition import PCA\n",
        "pca = PCA(n_components=0.95)"
      ],
      "metadata": {
        "id": "jdUDyGRNsshs"
      },
      "execution_count": 24,
      "outputs": []
    },
    {
      "cell_type": "code",
      "source": [
        "# kmeans for clustering \n",
        "from sklearn.cluster import KMeans\n",
        "k_means = KMeans(n_clusters=3, random_state=0)"
      ],
      "metadata": {
        "id": "P77KILp7tCDf"
      },
      "execution_count": 25,
      "outputs": []
    },
    {
      "cell_type": "markdown",
      "source": [
        "Model Fitting "
      ],
      "metadata": {
        "id": "5z40exxruW04"
      }
    },
    {
      "cell_type": "code",
      "source": [
        "## supervised learning \n",
        "# Linear Regression\n",
        "#lr.fit(X,y)\n",
        "#Knn\n",
        "#knn.fit(X_train,y_train)\n",
        "# SVM\n",
        "svc.fit(X_train, y_train)\n",
        "# Unsupervised Learning\n",
        "k_means.fit(X_train)\n",
        "pca_model = pca.fit_transform(X_train)"
      ],
      "metadata": {
        "id": "hEexU49nwo0p"
      },
      "execution_count": 26,
      "outputs": []
    },
    {
      "cell_type": "markdown",
      "source": [
        "Prediction of the models"
      ],
      "metadata": {
        "id": "OSHyZYD2zIDD"
      }
    },
    {
      "cell_type": "code",
      "source": [
        "# supervised \n",
        "y_pred = svc.predict(np.random.random((2,5)))\n",
        "y_pred = lr.predict (X_test)\n",
        "y_pred = knn.predict_proba(X_test)\n",
        "## unsupervised Learning\n",
        "y_pred = k_means.predict(X_test)"
      ],
      "metadata": {
        "id": "w3e11UAjx0x6"
      },
      "execution_count": 69,
      "outputs": []
    },
    {
      "cell_type": "markdown",
      "source": [
        "Evaluation of Model Performance "
      ],
      "metadata": {
        "id": "wFOBbDh6yEmU"
      }
    },
    {
      "cell_type": "code",
      "source": [
        "from sklearn.metrics import accuracy_score\n",
        "knn.score(X_test,y_test)\n",
        "accuracy_score(y_test,y_pred)"
      ],
      "metadata": {
        "colab": {
          "base_uri": "https://localhost:8080/"
        },
        "id": "dIHlDBePyZka",
        "outputId": "9c278b99-c43c-4b45-c658-66dd893399d1"
      },
      "execution_count": 40,
      "outputs": [
        {
          "output_type": "execute_result",
          "data": {
            "text/plain": [
              "0.42105263157894735"
            ]
          },
          "metadata": {},
          "execution_count": 40
        }
      ]
    },
    {
      "cell_type": "code",
      "source": [
        "# evaluation of the model: Classification report\n",
        "from sklearn.metrics import classification_report\n",
        "print(classification_report(y_test,y_pred))"
      ],
      "metadata": {
        "colab": {
          "base_uri": "https://localhost:8080/"
        },
        "id": "xBwjQxAX3RNj",
        "outputId": "dc7bcc61-2c95-4eb1-c57d-a408ee1448d5"
      },
      "execution_count": 36,
      "outputs": [
        {
          "output_type": "stream",
          "name": "stdout",
          "text": [
            "              precision    recall  f1-score   support\n",
            "\n",
            "           0       1.00      1.00      1.00         8\n",
            "           1       0.42      0.73      0.53        11\n",
            "           2       0.73      0.42      0.53        19\n",
            "\n",
            "    accuracy                           0.63        38\n",
            "   macro avg       0.72      0.72      0.69        38\n",
            "weighted avg       0.70      0.63      0.63        38\n",
            "\n"
          ]
        }
      ]
    },
    {
      "cell_type": "code",
      "source": [
        "# evaluation of the model: Confusion Matrix\n",
        "from sklearn.metrics import confusion_matrix\n",
        "print(confusion_matrix(y_test,y_pred))"
      ],
      "metadata": {
        "colab": {
          "base_uri": "https://localhost:8080/"
        },
        "id": "eJe_bQzP8Y8J",
        "outputId": "e74a3919-1b1d-4b93-da63-a3200d6bc83e"
      },
      "execution_count": 42,
      "outputs": [
        {
          "output_type": "stream",
          "name": "stdout",
          "text": [
            "[[3 6 4]\n",
            " [4 9 3]\n",
            " [1 4 4]]\n"
          ]
        }
      ]
    },
    {
      "cell_type": "markdown",
      "source": [
        "Regression Matrices "
      ],
      "metadata": {
        "id": "fT6ixFh581n7"
      }
    },
    {
      "cell_type": "code",
      "source": [
        "# mean absolute error # statistical concepts in ML\n",
        "from sklearn.metrics import mean_absolute_error\n",
        "y_true = [2 1 0 2 1 2 0 0 1 2 0 0 2 1 2 2 1 0 1 2 0 0 1 0 1 2 1 0 1 1 1 1 0 2 1 1 1 1]\n",
        "mean_absolute_error(y_true,y_pred)\n",
        "print(y_pred)"
      ],
      "metadata": {
        "id": "f1j4tjfy9CU0"
      },
      "execution_count": 48,
      "outputs": []
    },
    {
      "cell_type": "code",
      "source": [
        "print(y_pred)"
      ],
      "metadata": {
        "colab": {
          "base_uri": "https://localhost:8080/"
        },
        "id": "tiY2hm9g9lc4",
        "outputId": "d87a8912-b864-4f81-91bf-19dd8fdc2def"
      },
      "execution_count": 46,
      "outputs": [
        {
          "output_type": "stream",
          "name": "stdout",
          "text": [
            "[1 1 0 2 1 2 0 0 1 2 2 0 2 1 2 2 1 0 2 2 0 0 1 0 1 2 1 1 1 1 1 1 1 2 1 1 1\n",
            " 1]\n"
          ]
        }
      ]
    },
    {
      "cell_type": "code",
      "source": [
        "# Mean Absolute Error\n",
        "from sklearn.metrics import mean_absolute_error\n",
        "mean_absolute_error(y_test,y_pred)"
      ],
      "metadata": {
        "colab": {
          "base_uri": "https://localhost:8080/"
        },
        "id": "exWSShw3-B-A",
        "outputId": "d3edff37-1a47-4a37-8ef2-79b27421cdc7"
      },
      "execution_count": 49,
      "outputs": [
        {
          "output_type": "execute_result",
          "data": {
            "text/plain": [
              "0.7105263157894737"
            ]
          },
          "metadata": {},
          "execution_count": 49
        }
      ]
    },
    {
      "cell_type": "code",
      "source": [
        "# Mean square Error\n",
        "from sklearn.metrics import mean_absolute_error\n",
        "mean_square_error(y_test,y_pred)"
      ],
      "metadata": {
        "id": "px9Tcffj-Yms"
      },
      "execution_count": 50,
      "outputs": []
    },
    {
      "cell_type": "code",
      "source": [
        "# R^2 score \n",
        "from sklearn.metrics import r2_score\n",
        "r2_score(y_true,y_pred)"
      ],
      "metadata": {
        "colab": {
          "base_uri": "https://localhost:8080/"
        },
        "id": "8CYYfxLc-get",
        "outputId": "90ff13ef-1232-4f17-bef5-a123ed4703da"
      },
      "execution_count": 52,
      "outputs": [
        {
          "output_type": "execute_result",
          "data": {
            "text/plain": [
              "-0.7146341463414636"
            ]
          },
          "metadata": {},
          "execution_count": 52
        }
      ]
    },
    {
      "cell_type": "markdown",
      "source": [
        "Clustering Metrices"
      ],
      "metadata": {
        "id": "BRviKb8fAp6X"
      }
    },
    {
      "cell_type": "code",
      "source": [
        "#Adjusted Rand Index # https://scikit-learn.org/stable/modules/generated/sklearn.metrics.adjusted_rand_score.html?highlight=adjusted%20rand%20index\n",
        "from sklearn.metrics import adjusted_rand_score\n",
        "adjusted_rand_score(y_true,y_pred)"
      ],
      "metadata": {
        "colab": {
          "base_uri": "https://localhost:8080/"
        },
        "id": "o1tqBAlXAn_E",
        "outputId": "c0222020-4862-4b89-d442-ef282d45e26f"
      },
      "execution_count": 55,
      "outputs": [
        {
          "output_type": "execute_result",
          "data": {
            "text/plain": [
              "-0.02223986582928918"
            ]
          },
          "metadata": {},
          "execution_count": 55
        }
      ]
    },
    {
      "cell_type": "code",
      "source": [
        "# Homogeneity #https://scikit-learn.org/stable/modules/generated/sklearn.metrics.homogeneity_score.html\n",
        "from sklearn.metrics import homogeneity_score\n",
        "homogeneity_score(y_true,y_pred)"
      ],
      "metadata": {
        "colab": {
          "base_uri": "https://localhost:8080/"
        },
        "id": "8uDGrLiaCMbf",
        "outputId": "0d67fbed-1bd9-446f-bf1e-4923c3511fad"
      },
      "execution_count": 56,
      "outputs": [
        {
          "output_type": "execute_result",
          "data": {
            "text/plain": [
              "0.026719000582312677"
            ]
          },
          "metadata": {},
          "execution_count": 56
        }
      ]
    },
    {
      "cell_type": "code",
      "source": [
        "# V-measure \n",
        "from sklearn.metrics import v_measure_score\n",
        "metrics.v_measure_score(y_true,y_pred)"
      ],
      "metadata": {
        "id": "OExv7yozFBFk"
      },
      "execution_count": 58,
      "outputs": []
    },
    {
      "cell_type": "markdown",
      "source": [
        "Cross Validation"
      ],
      "metadata": {
        "id": "45t_R-yRFbgz"
      }
    },
    {
      "cell_type": "code",
      "source": [
        "from sklearn_pandas.cross_validation import cross_val_predict\n",
        "print (cross_val_predict(knn,X_train,y_train, cv=4))\n",
        "print(cross val score(lr,X,y, cv=2))"
      ],
      "metadata": {
        "id": "_GAEdWcDGdEe"
      },
      "execution_count": 68,
      "outputs": []
    },
    {
      "cell_type": "markdown",
      "source": [
        "Tune Model parameters? Hyperparameter Optimization"
      ],
      "metadata": {
        "id": "IgOrJVrALdfC"
      }
    },
    {
      "cell_type": "code",
      "source": [
        "#Grid search method\n",
        "from sklearn.grid_search import GridSearchCV\n",
        "params = {\"n_neighbors\": np.arange(1,3),\"metric\": [\"euclidean\",\"cityblock\"]}\n",
        "grid = GridSearchCV(estimator = knn, param_grid =params)\n",
        "grid.fit(X_train,y_train)\n",
        "print(grid.best_score_)\n",
        "print(grid.best_estimator_.n_neighbors)"
      ],
      "metadata": {
        "id": "oj2dT8BfLlGv"
      },
      "execution_count": 2,
      "outputs": []
    },
    {
      "cell_type": "markdown",
      "source": [
        "Randomize Parameter Optimization"
      ],
      "metadata": {
        "id": "HUmvHKa-jcbX"
      }
    },
    {
      "cell_type": "code",
      "source": [
        ""
      ],
      "metadata": {
        "id": "wZXL9IjajgRl"
      },
      "execution_count": null,
      "outputs": []
    }
  ]
}